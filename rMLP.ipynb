{
 "cells": [
  {
   "cell_type": "code",
   "execution_count": null,
   "id": "cdcab786-d889-4960-8da9-7b081b082025",
   "metadata": {},
   "outputs": [],
   "source": [
    "install.packages(\"caret\")"
   ]
  },
  {
   "cell_type": "code",
   "execution_count": 6,
   "id": "e68c4db1-7a03-49c8-bc8a-20d436ce3be3",
   "metadata": {
    "tags": []
   },
   "outputs": [
    {
     "name": "stderr",
     "output_type": "stream",
     "text": [
      "Warning message in install.packages(\"ellipse\"):\n",
      "“installation of package ‘ellipse’ had non-zero exit status”\n",
      "Updating HTML index of packages in '.Library'\n",
      "\n",
      "Making 'packages.html' ...\n",
      " done\n",
      "\n"
     ]
    }
   ],
   "source": [
    "install.packages(\"ellipse\")"
   ]
  },
  {
   "cell_type": "code",
   "execution_count": null,
   "id": "de1f7979-e62a-474b-ba65-8bc6d413de0a",
   "metadata": {
    "tags": []
   },
   "outputs": [],
   "source": [
    "install.packages(\"kernlab\")"
   ]
  },
  {
   "cell_type": "code",
   "execution_count": null,
   "id": "2449f5f4-2bca-4347-8852-ff9d6a10d61a",
   "metadata": {
    "tags": []
   },
   "outputs": [],
   "source": [
    "install.packages(\"randomForest\")"
   ]
  },
  {
   "cell_type": "code",
   "execution_count": null,
   "id": "f04bed3f-05a7-4d83-9d2a-04058ee9a795",
   "metadata": {
    "tags": []
   },
   "outputs": [],
   "source": [
    "library(caret)\n",
    "library(ggplot2)\n",
    "library(lattice)\n",
    "library(ellipse)\n",
    "library(kernlab)\n",
    "library(randomForest)"
   ]
  },
  {
   "cell_type": "code",
   "execution_count": null,
   "id": "fe712609-9f2b-4c73-9ef5-dce211ca7019",
   "metadata": {
    "tags": []
   },
   "outputs": [],
   "source": [
    "# attach the iris dataset to the environment\n",
    "data(iris)\n",
    "# rename the dataset\n",
    "dataset <- iris"
   ]
  },
  {
   "cell_type": "code",
   "execution_count": null,
   "id": "cf44a429-4985-44de-ab23-4cb29fd01395",
   "metadata": {
    "tags": []
   },
   "outputs": [],
   "source": [
    "# create a list of 80% of the rows in the original dataset we can use for training\n",
    "validation_index <- createDataPartition(dataset$Species, p=0.80, list=FALSE)\n",
    "# select 20% of the data for validation\n",
    "validation <- dataset[-validation_index,]\n",
    "# use the remaining 80% of data to training and testing the models\n",
    "dataset <- dataset[validation_index,]"
   ]
  },
  {
   "cell_type": "code",
   "execution_count": null,
   "id": "614ab619-84c6-420f-bf64-6f63c049a16f",
   "metadata": {
    "tags": []
   },
   "outputs": [],
   "source": [
    "# dimensions of dataset\n",
    "dim(dataset)"
   ]
  },
  {
   "cell_type": "code",
   "execution_count": null,
   "id": "0d4a90ef-2c09-4e6a-9390-ab7ab55cb7b0",
   "metadata": {
    "tags": []
   },
   "outputs": [],
   "source": [
    "# list types for each attribute\n",
    "sapply(dataset, class)"
   ]
  },
  {
   "cell_type": "code",
   "execution_count": null,
   "id": "2858fd59-db31-439b-88ce-3d40a1aa1aaa",
   "metadata": {
    "tags": []
   },
   "outputs": [],
   "source": [
    "# take a peek at the first 5 rows of the data\n",
    "head(dataset)"
   ]
  },
  {
   "cell_type": "code",
   "execution_count": null,
   "id": "7b0155a9-83d9-4242-bd05-148d26f5b5e3",
   "metadata": {
    "tags": []
   },
   "outputs": [],
   "source": [
    "levels(dataset$Species)"
   ]
  },
  {
   "cell_type": "code",
   "execution_count": null,
   "id": "cd38b4db-0406-46d0-9cc5-15d40443586a",
   "metadata": {
    "tags": []
   },
   "outputs": [],
   "source": [
    "# summarize the class distribution\n",
    "percentage <- prop.table(table(dataset$Species)) * 100\n",
    "cbind(freq=table(dataset$Species), percentage=percentage)\n"
   ]
  },
  {
   "cell_type": "code",
   "execution_count": null,
   "id": "9b7821cc-fc3b-4b59-b35f-160fc1f8d9c4",
   "metadata": {
    "tags": []
   },
   "outputs": [],
   "source": [
    "summary(dataset)"
   ]
  },
  {
   "cell_type": "code",
   "execution_count": null,
   "id": "2f31bfdf-e7ed-4f97-9de0-3f56204d02db",
   "metadata": {
    "tags": []
   },
   "outputs": [],
   "source": [
    "# split input and output\n",
    "x <- dataset[,1:4]\n",
    "y <- dataset[,5]"
   ]
  },
  {
   "cell_type": "code",
   "execution_count": null,
   "id": "269aeb40-696c-4e99-8eda-635d7a6599e3",
   "metadata": {
    "tags": []
   },
   "outputs": [],
   "source": [
    "# boxplot for each attribute on one image\n",
    "par(mfrow=c(1,4))\n",
    "  for(i in 1:4) {\n",
    "  boxplot(x[,i], main=names(iris)[i])\n",
    "}"
   ]
  },
  {
   "cell_type": "code",
   "execution_count": null,
   "id": "5c06d9f3-0e55-4103-84fd-44b7ca15d8f7",
   "metadata": {
    "tags": []
   },
   "outputs": [],
   "source": [
    "# barplot for class breakdown\n",
    "plot(y)"
   ]
  },
  {
   "cell_type": "code",
   "execution_count": null,
   "id": "55125d69-4838-4400-9102-f8f93fef1c04",
   "metadata": {
    "tags": []
   },
   "outputs": [],
   "source": [
    "# scatterplot matrix\n",
    "featurePlot(x=x, y=y, plot=\"ellipse\")"
   ]
  },
  {
   "cell_type": "code",
   "execution_count": null,
   "id": "dce3027e-1967-4bb8-8893-22f731bd3cca",
   "metadata": {
    "tags": []
   },
   "outputs": [],
   "source": [
    "# box and whisker plots for each attribute\n",
    "featurePlot(x=x, y=y, plot=\"box\")"
   ]
  },
  {
   "cell_type": "code",
   "execution_count": null,
   "id": "aefb7808-6fef-4875-8a73-f00c0004df64",
   "metadata": {
    "tags": []
   },
   "outputs": [],
   "source": [
    "# density plots for each attribute by class value\n",
    "scales <- list(x=list(relation=\"free\"), y=list(relation=\"free\"))\n",
    "featurePlot(x=x, y=y, plot=\"density\", scales=scales)"
   ]
  },
  {
   "cell_type": "code",
   "execution_count": null,
   "id": "ec51d7e7-bc94-45d3-9ca3-c4e604f7f532",
   "metadata": {
    "tags": []
   },
   "outputs": [],
   "source": [
    "# Run algorithms using 10-fold cross validation\n",
    "control <- trainControl(method=\"cv\", number=10)\n",
    "metric <- \"Accuracy\""
   ]
  },
  {
   "cell_type": "code",
   "execution_count": null,
   "id": "3a6ecea3-d0c1-41ab-804e-20ff117d42bf",
   "metadata": {
    "tags": []
   },
   "outputs": [],
   "source": [
    "# a) linear algorithms\n",
    "set.seed(7)\n",
    "fit.lda <- train(Species~., data=dataset, method=\"lda\", metric=metric, trControl=control)\n",
    "# b) nonlinear algorithms\n",
    "# CART\n",
    "set.seed(7)\n",
    "fit.cart <- train(Species~., data=dataset, method=\"rpart\", metric=metric, trControl=control)\n",
    "# kNN\n",
    "set.seed(7)\n",
    "fit.knn <- train(Species~., data=dataset, method=\"knn\", metric=metric, trControl=control)\n",
    "# c) advanced algorithms\n",
    "# SVM\n",
    "set.seed(7)\n",
    "fit.svm <- train(Species~., data=dataset, method=\"svmRadial\", metric=metric, trControl=control)\n",
    "# Random Forest\n",
    "set.seed(7)\n",
    "fit.rf <- train(Species~., data=dataset, method=\"rf\", metric=metric, trControl=control)"
   ]
  },
  {
   "cell_type": "code",
   "execution_count": null,
   "id": "c00b041d-f7d0-4858-a279-2493c4cacbca",
   "metadata": {
    "tags": []
   },
   "outputs": [],
   "source": [
    "# summarize accuracy of models\n",
    "results <- resamples(list(lda=fit.lda, cart=fit.cart, knn=fit.knn, svm=fit.svm, rf=fit.rf))\n",
    "summary(results)"
   ]
  },
  {
   "cell_type": "code",
   "execution_count": null,
   "id": "4c8f555e-bab2-4183-844f-97f9085738cc",
   "metadata": {
    "tags": []
   },
   "outputs": [],
   "source": [
    "# compare accuracy of models\n",
    "dotplot(results)"
   ]
  },
  {
   "cell_type": "code",
   "execution_count": null,
   "id": "c7dcf043-6bed-4c01-b50c-fd57dadc6c73",
   "metadata": {
    "tags": []
   },
   "outputs": [],
   "source": [
    "# summarize Best Model\n",
    "print(fit.lda)"
   ]
  },
  {
   "cell_type": "code",
   "execution_count": null,
   "id": "7c12de4d-a472-42fb-97cf-696d838f99a0",
   "metadata": {
    "tags": []
   },
   "outputs": [],
   "source": [
    "# estimate skill of LDA on the validation dataset\n",
    "predictions <- predict(fit.lda, validation)\n",
    "confusionMatrix(predictions, validation$Species)\n"
   ]
  },
  {
   "cell_type": "code",
   "execution_count": null,
   "id": "2df8219e-5815-4679-8e2a-ecb5bd77cbf7",
   "metadata": {},
   "outputs": [],
   "source": []
  }
 ],
 "metadata": {
  "kernelspec": {
   "display_name": "R",
   "language": "R",
   "name": "ir"
  },
  "language_info": {
   "codemirror_mode": "r",
   "file_extension": ".r",
   "mimetype": "text/x-r-source",
   "name": "R",
   "pygments_lexer": "r",
   "version": "4.0.5"
  }
 },
 "nbformat": 4,
 "nbformat_minor": 5
}
